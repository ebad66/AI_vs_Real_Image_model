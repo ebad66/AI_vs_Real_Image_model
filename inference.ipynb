{
 "cells": [
  {
   "cell_type": "code",
   "execution_count": 1,
   "id": "b1a52677",
   "metadata": {
    "vscode": {
     "languageId": "plaintext"
    }
   },
   "outputs": [
    {
     "ename": "ModuleNotFoundError",
     "evalue": "No module named 'seaborn'",
     "output_type": "error",
     "traceback": [
      "\u001b[31m---------------------------------------------------------------------------\u001b[39m",
      "\u001b[31mModuleNotFoundError\u001b[39m                       Traceback (most recent call last)",
      "\u001b[36mCell\u001b[39m\u001b[36m \u001b[39m\u001b[32mIn[1]\u001b[39m\u001b[32m, line 7\u001b[39m\n\u001b[32m      5\u001b[39m \u001b[38;5;28;01mfrom\u001b[39;00m\u001b[38;5;250m \u001b[39m\u001b[34;01mPIL\u001b[39;00m\u001b[38;5;250m \u001b[39m\u001b[38;5;28;01mimport\u001b[39;00m Image\n\u001b[32m      6\u001b[39m \u001b[38;5;28;01mimport\u001b[39;00m\u001b[38;5;250m \u001b[39m\u001b[34;01mmatplotlib\u001b[39;00m\u001b[34;01m.\u001b[39;00m\u001b[34;01mpyplot\u001b[39;00m\u001b[38;5;250m \u001b[39m\u001b[38;5;28;01mas\u001b[39;00m\u001b[38;5;250m \u001b[39m\u001b[34;01mplt\u001b[39;00m\n\u001b[32m----> \u001b[39m\u001b[32m7\u001b[39m \u001b[38;5;28;01mimport\u001b[39;00m\u001b[38;5;250m \u001b[39m\u001b[34;01mseaborn\u001b[39;00m\u001b[38;5;250m \u001b[39m\u001b[38;5;28;01mas\u001b[39;00m\u001b[38;5;250m \u001b[39m\u001b[34;01msns\u001b[39;00m\n\u001b[32m      8\u001b[39m \u001b[38;5;28;01mimport\u001b[39;00m\u001b[38;5;250m \u001b[39m\u001b[34;01mos\u001b[39;00m\n\u001b[32m      9\u001b[39m \u001b[38;5;28;01mimport\u001b[39;00m\u001b[38;5;250m \u001b[39m\u001b[34;01mnumpy\u001b[39;00m\u001b[38;5;250m \u001b[39m\u001b[38;5;28;01mas\u001b[39;00m\u001b[38;5;250m \u001b[39m\u001b[34;01mnp\u001b[39;00m\n",
      "\u001b[31mModuleNotFoundError\u001b[39m: No module named 'seaborn'"
     ]
    }
   ],
   "source": [
    "# AI vs Real Image Classifier - Full Inference & Confusion Matrix\n",
    "\n",
    "import torch\n",
    "from torchvision import transforms\n",
    "from PIL import Image\n",
    "import matplotlib.pyplot as plt\n",
    "import seaborn as sns\n",
    "import os\n",
    "import numpy as np\n",
    "from train import SimpleCNN\n",
    "from sklearn.metrics import confusion_matrix, ConfusionMatrixDisplay"
   ]
  },
  {
   "cell_type": "code",
   "execution_count": null,
   "id": "16e7f59f",
   "metadata": {
    "vscode": {
     "languageId": "plaintext"
    }
   },
   "outputs": [],
   "source": [
    "# ------------------------\n",
    "# Configuration\n",
    "# ------------------------\n",
    "device = torch.device('cuda' if torch.cuda.is_available() else 'cpu')\n",
    "model_path = 'models/cnn_model.pth'\n",
    "test_dir = 'data/test/'  # must have FAKE and REAL subfolders\n",
    "\n",
    "class_names = ['FAKE', 'REAL']"
   ]
  },
  {
   "cell_type": "code",
   "execution_count": null,
   "id": "bdadcd05",
   "metadata": {
    "vscode": {
     "languageId": "plaintext"
    }
   },
   "outputs": [],
   "source": [
    "# ------------------------\n",
    "# Load Model\n",
    "# ------------------------\n",
    "model = SimpleCNN().to(device)\n",
    "model.load_state_dict(torch.load(model_path))\n",
    "model.eval()"
   ]
  },
  {
   "cell_type": "code",
   "execution_count": null,
   "id": "46a2fa41",
   "metadata": {
    "vscode": {
     "languageId": "plaintext"
    }
   },
   "outputs": [],
   "source": [
    "# ------------------------\n",
    "# Image Transform\n",
    "# ------------------------\n",
    "transform = transforms.Compose([\n",
    "    transforms.Resize((224, 224)),\n",
    "    transforms.ToTensor(),\n",
    "    transforms.Normalize((0.5,), (0.5,))\n",
    "])"
   ]
  },
  {
   "cell_type": "code",
   "execution_count": null,
   "id": "e3fb3fc1",
   "metadata": {
    "vscode": {
     "languageId": "plaintext"
    }
   },
   "outputs": [],
   "source": [
    "# ------------------------\n",
    "# Inference Function\n",
    "# ------------------------\n",
    "def predict_image(img_path):\n",
    "    img = Image.open(img_path).convert('RGB')\n",
    "    img_t = transform(img).unsqueeze(0).to(device)\n",
    "    with torch.no_grad():\n",
    "        pred = model(img_t)\n",
    "    label_idx = int(pred.item() > 0.5)\n",
    "    return label_idx, pred.item(), img"
   ]
  },
  {
   "cell_type": "code",
   "execution_count": null,
   "id": "285698fa",
   "metadata": {
    "vscode": {
     "languageId": "plaintext"
    }
   },
   "outputs": [],
   "source": [
    "# ------------------------\n",
    "# Loop through test images\n",
    "# ------------------------\n",
    "y_true = []\n",
    "y_pred = []\n",
    "\n",
    "samples_to_plot = []\n",
    "\n",
    "for label_idx, label in enumerate(class_names):\n",
    "    folder = os.path.join(test_dir, label)\n",
    "    files = os.listdir(folder)\n",
    "    for f in files:\n",
    "        img_path = os.path.join(folder, f)\n",
    "        pred_idx, score, img = predict_image(img_path)\n",
    "        y_true.append(label_idx)\n",
    "        y_pred.append(pred_idx)\n",
    "        # store first 3 of each class for plotting\n",
    "        if len(samples_to_plot) < 6:\n",
    "            samples_to_plot.append((img, class_names[pred_idx], score))"
   ]
  },
  {
   "cell_type": "code",
   "execution_count": null,
   "id": "b0409ae6",
   "metadata": {
    "vscode": {
     "languageId": "plaintext"
    }
   },
   "outputs": [],
   "source": [
    "# ------------------------\n",
    "# Confusion Matrix\n",
    "# ------------------------\n",
    "cm = confusion_matrix(y_true, y_pred)\n",
    "disp = ConfusionMatrixDisplay(cm, display_labels=class_names)\n",
    "\n",
    "plt.figure(figsize=(6,6))\n",
    "sns.heatmap(cm, annot=True, fmt=\"d\", cmap=\"Blues\", xticklabels=class_names, yticklabels=class_names)\n",
    "plt.xlabel(\"Predicted\")\n",
    "plt.ylabel(\"True\")\n",
    "plt.title(\"Confusion Matrix\")\n",
    "plt.show()"
   ]
  },
  {
   "cell_type": "code",
   "execution_count": null,
   "id": "f5befc07",
   "metadata": {
    "vscode": {
     "languageId": "plaintext"
    }
   },
   "outputs": [],
   "source": [
    "# ------------------------\n",
    "# Plot sample predictions\n",
    "# ------------------------\n",
    "plt.figure(figsize=(12,6))\n",
    "for i, (img, label, score) in enumerate(samples_to_plot):\n",
    "    plt.subplot(2,3,i+1)\n",
    "    plt.imshow(img)\n",
    "    plt.title(f\"{label} ({score:.2f})\")\n",
    "    plt.axis('off')\n",
    "plt.suptitle(\"Sample CNN Predictions\")\n",
    "plt.show()"
   ]
  }
 ],
 "metadata": {
  "kernelspec": {
   "display_name": "Python 3 (ipykernel)",
   "language": "python",
   "name": "python3"
  },
  "language_info": {
   "codemirror_mode": {
    "name": "ipython",
    "version": 3
   },
   "file_extension": ".py",
   "mimetype": "text/x-python",
   "name": "python",
   "nbconvert_exporter": "python",
   "pygments_lexer": "ipython3",
   "version": "3.12.0"
  }
 },
 "nbformat": 4,
 "nbformat_minor": 5
}
